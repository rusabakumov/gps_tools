{
 "cells": [
  {
   "cell_type": "code",
   "execution_count": 1,
   "metadata": {},
   "outputs": [],
   "source": [
    "from gpstools import parser, viz\n",
    "from gpstools.track import *\n",
    "from gpstools.referencetrack import *"
   ]
  },
  {
   "cell_type": "code",
   "execution_count": 2,
   "metadata": {},
   "outputs": [
    {
     "name": "stdout",
     "output_type": "stream",
     "text": [
      "Load track data/medved/su2.gpx with 6263 points\n",
      "Looks that track has incorrect milliseconds presicion format (i.e written by Harry's Lap Timer). Fixing\n",
      "Track rusabakumov\n",
      "Start time: 2019-01-13 11:37:00.800000\n",
      "End time: 2019-01-13 11:46:13.200000\n",
      "Total time: 0:09:12.400000\n",
      "Total distance travelled: 11.340 km\n",
      "Total average speed: 73.90 kph\n",
      "Max speed: 142.88 kph\n",
      "Average speed: 74.10 kph\n",
      "\n",
      "\n"
     ]
    }
   ],
   "source": [
    "# rusabakumov\n",
    "rusabakumov_su2 = parser.load_gpx_track('data/medved/su2.gpx')\n",
    "#rusabakumov_su2.print_stats()\n",
    "\n",
    "rusabakumov_su2_segments = rusabakumov_su2.determine_activity_segments(allowed_pause = 5, segment_duration_threshold = 5)\n",
    "#for segment in rusabakumov_su2_segments:\n",
    "#    segment.print_stats()\n",
    "    \n",
    "rusabakumov_su2 = rusabakumov_su2.crop_track_to_segment(rusabakumov_su2_segments[1], 'rusabakumov')\n",
    "rusabakumov_su2.set_speed_smoothing(10)\n",
    "rusabakumov_su2.print_stats()"
   ]
  },
  {
   "cell_type": "code",
   "execution_count": 3,
   "metadata": {},
   "outputs": [
    {
     "name": "stdout",
     "output_type": "stream",
     "text": [
      "Load track data/yarik_medved/Log_20190113_150647.gpx with 16603 points\n",
      "Track cooler777\n",
      "Start time: 2019-01-13 11:53:00.350000\n",
      "End time: 2019-01-13 12:01:56.470000\n",
      "Total time: 0:08:56.120000\n",
      "Total distance travelled: 11.259 km\n",
      "Total average speed: 75.60 kph\n",
      "Max speed: 158.47 kph\n",
      "Average speed: 75.93 kph\n",
      "\n",
      "\n"
     ]
    }
   ],
   "source": [
    "# Cooler777\n",
    "yarik_su2 = parser.load_gpx_track('data/yarik_medved/Log_20190113_150647.gpx')\n",
    "#yarik_su2.print_stats()\n",
    "\n",
    "yarik_su2_segments = yarik_su2.determine_activity_segments(allowed_pause = 1, segment_duration_threshold = 5)\n",
    "#for segment in yarik_su2_segments:\n",
    "#   segment.print_stats()\n",
    "    \n",
    "yarik_su2 = yarik_su2.crop_track_to_segment(yarik_su2_segments[3], 'cooler777')\n",
    "yarik_su2.set_speed_smoothing(10)\n",
    "yarik_su2.print_stats()"
   ]
  },
  {
   "cell_type": "code",
   "execution_count": 4,
   "metadata": {},
   "outputs": [
    {
     "name": "stdout",
     "output_type": "stream",
     "text": [
      "Load racechrono track data/medved/maxmir.csv with 4169 points\n",
      "Track maxmir\n",
      "Start time: 2019-01-13 14:57:01\n",
      "End time: 2019-01-13 15:06:06\n",
      "Total time: 0:09:05\n",
      "Total distance travelled: 11.388 km\n",
      "Total average speed: 75.22 kph\n",
      "Max speed: 145.60 kph\n",
      "Average speed: 74.95 kph\n",
      "\n",
      "\n"
     ]
    }
   ],
   "source": [
    "# maxmir\n",
    "maxmir_su2 = parser.load_racechrono_csv_track('data/medved/maxmir.csv')\n",
    "#maxmir_track.print_stats()\n",
    "\n",
    "maxmir_segments = maxmir_su2.determine_activity_segments(allowed_pause = 5, segment_duration_threshold = 5)\n",
    "# for segment in maxmir_segments:\n",
    "#     segment.print_stats()\n",
    "    \n",
    "maxmir_su2 = maxmir_su2.crop_track_to_segment(maxmir_segments[0], 'maxmir')\n",
    "maxmir_su2.set_speed_smoothing(1)\n",
    "maxmir_su2.print_stats()"
   ]
  },
  {
   "cell_type": "code",
   "execution_count": 5,
   "metadata": {},
   "outputs": [
    {
     "name": "stdout",
     "output_type": "stream",
     "text": [
      "Load racechrono track data/medved/cheb2.csv with 921 points\n",
      "Track fomin\n",
      "Start time: 2019-01-13 14:57:59\n",
      "End time: 2019-01-13 15:10:20\n",
      "Total time: 0:12:21\n",
      "Total distance travelled: 13.051 km\n",
      "Total average speed: 63.40 kph\n",
      "Max speed: 155.00 kph\n",
      "Average speed: 62.97 kph\n",
      "\n",
      "\n"
     ]
    }
   ],
   "source": [
    "cheb_su2 = parser.load_racechrono_csv_track('data/medved/cheb2.csv')\n",
    "\n",
    "cheb_segments = cheb_su2.determine_activity_segments(allowed_pause = 5, segment_duration_threshold = 5)\n",
    "# for segment in cheb_segments:\n",
    "#    segment.print_stats()\n",
    "    \n",
    "cheb_su2 = cheb_su2.crop_track_to_segment(cheb_segments[1], 'fomin')\n",
    "cheb_su2.set_speed_smoothing(1)\n",
    "cheb_su2.print_stats()"
   ]
  },
  {
   "cell_type": "code",
   "execution_count": 7,
   "metadata": {},
   "outputs": [
    {
     "name": "stdout",
     "output_type": "stream",
     "text": [
      "Reference track stats:\n",
      "Total 1835 points\n",
      "Distance between points (km):\n",
      "Min: 0.00500, Max: 0.01700, Avg: 0.00615\n",
      "Time difference between points (ms):\n",
      "Min: 200000.00000, Max: 8100000.00000, Avg: 300272.62814\n",
      "Total distance travelled: 11.288 km\n",
      "Done dist alignment for track rusabakumov\n",
      "Found 0 no candidates points\n",
      "Found 3637 dist duplication points\n",
      "Done dist alignment for track cooler777\n",
      "Found 0 no candidates points\n",
      "Found 6776 dist duplication points\n",
      "Done dist alignment for track maxmir\n",
      "Found 0 no candidates points\n",
      "Found 12 dist duplication points\n",
      "Done dist alignment for track fomin\n",
      "Found 179 no candidates points\n",
      "Found 31 dist duplication points\n"
     ]
    }
   ],
   "source": [
    "# Reference test\n",
    "from gpstools.trackcomparison import TrackComparison\n",
    "\n",
    "ref_track = ReferenceTrack(rusabakumov_su2)\n",
    "ref_track.print_stats()\n",
    "\n",
    "comparison = TrackComparison(ref_track, [rusabakumov_su2, yarik_su2, maxmir_su2, cheb_su2]) #, yarik_su2, maxmir_su2])\n",
    "\n",
    "comparison.build_comparison_graph('medved_su2_2', 'Медведь СУ2')\n",
    "\n",
    "# viz.plot_distance_speed_graph(\n",
    "#     [rusabakumov_su2.dist_travelled, comparison._aligned_distances[3]],\n",
    "#     [rusabakumov_su2.get_speed(), cheb_su2.get_speed(),]\n",
    "# )"
   ]
  },
  {
   "cell_type": "code",
   "execution_count": null,
   "metadata": {},
   "outputs": [],
   "source": [
    "# Reference viz\n",
    "ref_as_track = Track('reference', ref_track._reference_track_points)\n",
    "\n",
    "viz.plot_2d_track(ref_as_track)\n",
    "ref_as_track.print_stats()"
   ]
  },
  {
   "cell_type": "code",
   "execution_count": null,
   "metadata": {},
   "outputs": [],
   "source": [
    "viz.plot_distance_speed_graph([maxmir_su2, cheb_su2])"
   ]
  },
  {
   "cell_type": "code",
   "execution_count": null,
   "metadata": {},
   "outputs": [],
   "source": [
    "viz.generate_distance_speed_graph('medved_su2_all', 'Медведь СУ2', [yarik_su2, rusabakumov_su2, maxmir_su2, cheb_su2])"
   ]
  },
  {
   "cell_type": "code",
   "execution_count": null,
   "metadata": {},
   "outputs": [],
   "source": [
    "viz.plot_2d_track(cheb_su2)"
   ]
  },
  {
   "cell_type": "code",
   "execution_count": null,
   "metadata": {},
   "outputs": [],
   "source": []
  }
 ],
 "metadata": {
  "kernelspec": {
   "display_name": "Python 3",
   "language": "python",
   "name": "python3"
  },
  "language_info": {
   "codemirror_mode": {
    "name": "ipython",
    "version": 3
   },
   "file_extension": ".py",
   "mimetype": "text/x-python",
   "name": "python",
   "nbconvert_exporter": "python",
   "pygments_lexer": "ipython3",
   "version": "3.6.2"
  }
 },
 "nbformat": 4,
 "nbformat_minor": 2
}
