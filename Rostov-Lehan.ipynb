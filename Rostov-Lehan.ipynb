{
 "cells": [
  {
   "cell_type": "code",
   "execution_count": 1,
   "metadata": {},
   "outputs": [],
   "source": [
    "from gpstools import parser, viz\n",
    "from gpstools.track import *\n",
    "from gpstools.referencetrack import *"
   ]
  },
  {
   "cell_type": "code",
   "execution_count": 2,
   "metadata": {},
   "outputs": [
    {
     "ename": "GPXXMLSyntaxException",
     "evalue": "Error parsing XML: Char 0x0 out of allowed range, line 216, column 26 (<string>, line 216)",
     "output_type": "error",
     "traceback": [
      "\u001b[0;31m---------------------------------------------------------------------------\u001b[0m",
      "\u001b[0;31mXMLSyntaxError\u001b[0m                            Traceback (most recent call last)",
      "\u001b[0;32m~/gps_tools/venv/lib/python3.6/site-packages/gpxpy/parser.py\u001b[0m in \u001b[0;36mparse\u001b[0;34m(self, version)\u001b[0m\n\u001b[1;32m    119\u001b[0m                 root = mod_etree.XML(self.xml,\n\u001b[0;32m--> 120\u001b[0;31m                                      mod_etree.XMLParser(remove_comments=True))\n\u001b[0m\u001b[1;32m    121\u001b[0m             \u001b[0;32melse\u001b[0m\u001b[0;34m:\u001b[0m\u001b[0;34m\u001b[0m\u001b[0m\n",
      "\u001b[0;32msrc/lxml/etree.pyx\u001b[0m in \u001b[0;36mlxml.etree.XML\u001b[0;34m()\u001b[0m\n",
      "\u001b[0;32msrc/lxml/parser.pxi\u001b[0m in \u001b[0;36mlxml.etree._parseMemoryDocument\u001b[0;34m()\u001b[0m\n",
      "\u001b[0;32msrc/lxml/parser.pxi\u001b[0m in \u001b[0;36mlxml.etree._parseDoc\u001b[0;34m()\u001b[0m\n",
      "\u001b[0;32msrc/lxml/parser.pxi\u001b[0m in \u001b[0;36mlxml.etree._BaseParser._parseDoc\u001b[0;34m()\u001b[0m\n",
      "\u001b[0;32msrc/lxml/parser.pxi\u001b[0m in \u001b[0;36mlxml.etree._ParserContext._handleParseResultDoc\u001b[0;34m()\u001b[0m\n",
      "\u001b[0;32msrc/lxml/parser.pxi\u001b[0m in \u001b[0;36mlxml.etree._handleParseResult\u001b[0;34m()\u001b[0m\n",
      "\u001b[0;32msrc/lxml/parser.pxi\u001b[0m in \u001b[0;36mlxml.etree._raiseParseError\u001b[0;34m()\u001b[0m\n",
      "\u001b[0;31mXMLSyntaxError\u001b[0m: Char 0x0 out of allowed range, line 216, column 26 (<string>, line 216)",
      "\nThe above exception was the direct cause of the following exception:\n",
      "\u001b[0;31mGPXXMLSyntaxException\u001b[0m                     Traceback (most recent call last)",
      "\u001b[0;32m<ipython-input-2-5d3d2382c9ce>\u001b[0m in \u001b[0;36m<module>\u001b[0;34m\u001b[0m\n\u001b[0;32m----> 1\u001b[0;31m \u001b[0mtest\u001b[0m \u001b[0;34m=\u001b[0m \u001b[0mparser\u001b[0m\u001b[0;34m.\u001b[0m\u001b[0mload_gpx_track\u001b[0m\u001b[0;34m(\u001b[0m\u001b[0;34m'data/rostov/leha/Log_20190127_103056.gpx'\u001b[0m\u001b[0;34m)\u001b[0m\u001b[0;34m\u001b[0m\u001b[0m\n\u001b[0m\u001b[1;32m      2\u001b[0m \u001b[0;34m\u001b[0m\u001b[0m\n\u001b[1;32m      3\u001b[0m \u001b[0mviz\u001b[0m\u001b[0;34m.\u001b[0m\u001b[0mplot_2d_track\u001b[0m\u001b[0;34m(\u001b[0m\u001b[0mtest\u001b[0m\u001b[0;34m)\u001b[0m\u001b[0;34m\u001b[0m\u001b[0m\n\u001b[1;32m      4\u001b[0m \u001b[0;34m\u001b[0m\u001b[0m\n\u001b[1;32m      5\u001b[0m \u001b[0;31m# su1_segments = su1.determine_activity_segments(allowed_pause = 5, segment_duration_threshold = 5)\u001b[0m\u001b[0;34m\u001b[0m\u001b[0;34m\u001b[0m\u001b[0m\n",
      "\u001b[0;32m~/gps_tools/gpstools/parser.py\u001b[0m in \u001b[0;36mload_gpx_track\u001b[0;34m(filename)\u001b[0m\n\u001b[1;32m     10\u001b[0m \u001b[0;32mdef\u001b[0m \u001b[0mload_gpx_track\u001b[0m\u001b[0;34m(\u001b[0m\u001b[0mfilename\u001b[0m\u001b[0;34m)\u001b[0m\u001b[0;34m:\u001b[0m\u001b[0;34m\u001b[0m\u001b[0m\n\u001b[1;32m     11\u001b[0m     \u001b[0mgpx_file\u001b[0m \u001b[0;34m=\u001b[0m \u001b[0mopen\u001b[0m\u001b[0;34m(\u001b[0m\u001b[0mfilename\u001b[0m\u001b[0;34m,\u001b[0m \u001b[0;34m'r'\u001b[0m\u001b[0;34m)\u001b[0m\u001b[0;34m\u001b[0m\u001b[0m\n\u001b[0;32m---> 12\u001b[0;31m     \u001b[0mgpx\u001b[0m \u001b[0;34m=\u001b[0m \u001b[0mgpxpy\u001b[0m\u001b[0;34m.\u001b[0m\u001b[0mparse\u001b[0m\u001b[0;34m(\u001b[0m\u001b[0mgpx_file\u001b[0m\u001b[0;34m)\u001b[0m\u001b[0;34m\u001b[0m\u001b[0m\n\u001b[0m\u001b[1;32m     13\u001b[0m \u001b[0;34m\u001b[0m\u001b[0m\n\u001b[1;32m     14\u001b[0m     \u001b[0;32massert\u001b[0m \u001b[0mlen\u001b[0m\u001b[0;34m(\u001b[0m\u001b[0mgpx\u001b[0m\u001b[0;34m.\u001b[0m\u001b[0mtracks\u001b[0m\u001b[0;34m)\u001b[0m \u001b[0;34m==\u001b[0m \u001b[0;36m1\u001b[0m\u001b[0;34m\u001b[0m\u001b[0m\n",
      "\u001b[0;32m~/gps_tools/venv/lib/python3.6/site-packages/gpxpy/__init__.py\u001b[0m in \u001b[0;36mparse\u001b[0;34m(xml_or_file, version)\u001b[0m\n\u001b[1;32m     34\u001b[0m     \u001b[0mparser\u001b[0m \u001b[0;34m=\u001b[0m \u001b[0mmod_parser\u001b[0m\u001b[0;34m.\u001b[0m\u001b[0mGPXParser\u001b[0m\u001b[0;34m(\u001b[0m\u001b[0mxml_or_file\u001b[0m\u001b[0;34m)\u001b[0m\u001b[0;34m\u001b[0m\u001b[0m\n\u001b[1;32m     35\u001b[0m \u001b[0;34m\u001b[0m\u001b[0m\n\u001b[0;32m---> 36\u001b[0;31m     \u001b[0;32mreturn\u001b[0m \u001b[0mparser\u001b[0m\u001b[0;34m.\u001b[0m\u001b[0mparse\u001b[0m\u001b[0;34m(\u001b[0m\u001b[0mversion\u001b[0m\u001b[0;34m)\u001b[0m\u001b[0;34m\u001b[0m\u001b[0m\n\u001b[0m",
      "\u001b[0;32m~/gps_tools/venv/lib/python3.6/site-packages/gpxpy/parser.py\u001b[0m in \u001b[0;36mparse\u001b[0;34m(self, version)\u001b[0m\n\u001b[1;32m    133\u001b[0m             \u001b[0;31m# But, if the user needs the original exception (lxml or ElementTree)\u001b[0m\u001b[0;34m\u001b[0m\u001b[0;34m\u001b[0m\u001b[0m\n\u001b[1;32m    134\u001b[0m             \u001b[0;31m# it is available with GPXXMLSyntaxException.original_exception:\u001b[0m\u001b[0;34m\u001b[0m\u001b[0;34m\u001b[0m\u001b[0m\n\u001b[0;32m--> 135\u001b[0;31m             \u001b[0;32mraise\u001b[0m \u001b[0mmod_gpx\u001b[0m\u001b[0;34m.\u001b[0m\u001b[0mGPXXMLSyntaxException\u001b[0m\u001b[0;34m(\u001b[0m\u001b[0;34m'Error parsing XML: %s'\u001b[0m \u001b[0;34m%\u001b[0m \u001b[0mstr\u001b[0m\u001b[0;34m(\u001b[0m\u001b[0me\u001b[0m\u001b[0;34m)\u001b[0m\u001b[0;34m,\u001b[0m \u001b[0me\u001b[0m\u001b[0;34m)\u001b[0m\u001b[0;34m\u001b[0m\u001b[0m\n\u001b[0m\u001b[1;32m    136\u001b[0m \u001b[0;34m\u001b[0m\u001b[0m\n\u001b[1;32m    137\u001b[0m         \u001b[0;32mif\u001b[0m \u001b[0mroot\u001b[0m \u001b[0;32mis\u001b[0m \u001b[0;32mNone\u001b[0m\u001b[0;34m:\u001b[0m\u001b[0;34m\u001b[0m\u001b[0m\n",
      "\u001b[0;31mGPXXMLSyntaxException\u001b[0m: Error parsing XML: Char 0x0 out of allowed range, line 216, column 26 (<string>, line 216)"
     ]
    }
   ],
   "source": [
    "test = parser.load_gpx_track('data/rostov/leha/Log_20190127_103056.gpx')\n",
    "\n",
    "viz.plot_2d_track(test)\n",
    "\n",
    "# su1_segments = su1.determine_activity_segments(allowed_pause = 5, segment_duration_threshold = 5)\n",
    "# for segment in su1_segments:\n",
    "#    segment.print_stats()\n",
    "    \n",
    "# su1 = su1.crop_track_to_segment(su1_segments[1], 'su1')\n",
    "# su1.set_speed_smoothing(10)\n",
    "# su1.print_stats()"
   ]
  },
  {
   "cell_type": "code",
   "execution_count": 20,
   "metadata": {},
   "outputs": [
    {
     "name": "stdout",
     "output_type": "stream",
     "text": [
      "Reference track stats:\n",
      "Total 1839 points\n",
      "Distance between points (km):\n",
      "Min: 0.00500, Max: 0.01975, Avg: 0.00614\n",
      "Time difference between points (ms):\n",
      "Min: 200000.00000, Max: 1300000.00000, Avg: 312513.60174\n",
      "Total distance travelled: 11.282 km\n",
      "Done dist alignment for track su1\n",
      "Found 0 no candidates points\n",
      "Found 3883 dist duplication points\n",
      "Done dist alignment for track su2\n",
      "Found 0 no candidates points\n",
      "Found 3706 dist duplication points\n",
      "Done dist alignment for track su3\n",
      "Found 0 no candidates points\n",
      "Found 3664 dist duplication points\n",
      "Done dist alignment for track dima_su3\n",
      "Found 39 no candidates points\n",
      "Found 125 dist duplication points\n"
     ]
    }
   ],
   "source": [
    "# Reference test\n",
    "from gpstools.trackcomparison import TrackComparison\n",
    "\n",
    "ref_track = ReferenceTrack(su1)\n",
    "ref_track.print_stats()\n",
    "\n",
    "comparison = TrackComparison(ref_track, [su1, su2, su3, dima_su3]) #, yarik_su2, maxmir_su2])\n",
    "\n",
    "comparison.build_comparison_graph('rostov_test3', 'STI-Club Winter Cup Ростов')\n",
    "\n",
    "# viz.plot_distance_speed_graph(\n",
    "#     [rusabakumov_su2.dist_travelled, comparison._aligned_distances[3]],\n",
    "#     [rusabakumov_su2.get_speed(), cheb_su2.get_speed(),]\n",
    "# )"
   ]
  },
  {
   "cell_type": "code",
   "execution_count": null,
   "metadata": {},
   "outputs": [],
   "source": [
    "# Reference viz\n",
    "ref_as_track = Track('reference', ref_track.reference_points)\n",
    "\n",
    "viz.plot_2d_track(ref_as_track)\n",
    "ref_as_track.print_stats()"
   ]
  },
  {
   "cell_type": "code",
   "execution_count": null,
   "metadata": {},
   "outputs": [],
   "source": [
    "viz.plot_distance_speed_graph([su1, su2])"
   ]
  },
  {
   "cell_type": "code",
   "execution_count": null,
   "metadata": {},
   "outputs": [],
   "source": [
    "viz.generate_distance_speed_graph('medved_su2_all', 'Медведь СУ2', [yarik_su2, rusabakumov_su2, maxmir_su2, cheb_su2])"
   ]
  },
  {
   "cell_type": "code",
   "execution_count": null,
   "metadata": {},
   "outputs": [],
   "source": [
    "viz.plot_2d_track(cheb_su2)"
   ]
  },
  {
   "cell_type": "code",
   "execution_count": null,
   "metadata": {},
   "outputs": [],
   "source": []
  }
 ],
 "metadata": {
  "kernelspec": {
   "display_name": "Python 3",
   "language": "python",
   "name": "python3"
  },
  "language_info": {
   "codemirror_mode": {
    "name": "ipython",
    "version": 3
   },
   "file_extension": ".py",
   "mimetype": "text/x-python",
   "name": "python",
   "nbconvert_exporter": "python",
   "pygments_lexer": "ipython3",
   "version": "3.6.2"
  }
 },
 "nbformat": 4,
 "nbformat_minor": 2
}
