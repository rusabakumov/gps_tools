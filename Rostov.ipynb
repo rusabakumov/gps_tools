{
 "cells": [
  {
   "cell_type": "code",
   "execution_count": 2,
   "metadata": {},
   "outputs": [],
   "source": [
    "from gpstools import parser, viz\n",
    "from gpstools.track import *\n",
    "from gpstools.referencetrack import *"
   ]
  },
  {
   "cell_type": "code",
   "execution_count": 2,
   "metadata": {},
   "outputs": [
    {
     "name": "stdout",
     "output_type": "stream",
     "text": [
      "Load track data/rostov/rusabakumov_su1.gpx with 6344 points\n",
      "Looks that track has incorrect milliseconds presicion format (i.e written by Harry's Lap Timer). Fixing\n",
      "Track su1\n",
      "Start time: 2019-01-27 08:28:02.500000\n",
      "End time: 2019-01-27 08:37:40.400000\n",
      "Total time: 0:09:37.900000\n",
      "Total distance travelled: 11.328 km\n",
      "Total average speed: 70.57 kph\n",
      "Max speed: 143.94 kph\n",
      "Average speed: 70.12 kph\n",
      "\n",
      "\n"
     ]
    }
   ],
   "source": [
    "# rusabakumov\n",
    "su1 = parser.load_gpx_track('data/rostov/rusabakumov_su1.gpx')\n",
    "\n",
    "su1.print_actitity_segments()\n",
    "    \n",
    "su1 = su1.crop_track_to_segment(su1_segments[1], 'su1')\n",
    "su1.set_speed_smoothing(10)\n",
    "su1.print_stats()"
   ]
  },
  {
   "cell_type": "code",
   "execution_count": 3,
   "metadata": {},
   "outputs": [
    {
     "name": "stdout",
     "output_type": "stream",
     "text": [
      "Load track data/rostov/rusabakumov_su2.gpx with 6348 points\n",
      "Looks that track has incorrect milliseconds presicion format (i.e written by Harry's Lap Timer). Fixing\n",
      "Track su2\n",
      "Start time: 2019-01-27 10:21:02.800000\n",
      "End time: 2019-01-27 10:30:25.700000\n",
      "Total time: 0:09:22.900000\n",
      "Total distance travelled: 11.324 km\n",
      "Total average speed: 72.42 kph\n",
      "Max speed: 147.09 kph\n",
      "Average speed: 72.12 kph\n",
      "\n",
      "\n"
     ]
    }
   ],
   "source": [
    "# rusabakumov\n",
    "su2 = parser.load_gpx_track('data/rostov/rusabakumov_su2.gpx')\n",
    "\n",
    "su2_segments = su2.determine_activity_segments(allowed_pause = 5, segment_duration_threshold = 5)\n",
    "# for segment in su2_segments:\n",
    "#    segment.print_stats()\n",
    "    \n",
    "su2 = su2.crop_track_to_segment(su2_segments[1], 'su2')\n",
    "su2.set_speed_smoothing(10)\n",
    "su2.print_stats()"
   ]
  },
  {
   "cell_type": "code",
   "execution_count": 4,
   "metadata": {},
   "outputs": [
    {
     "name": "stdout",
     "output_type": "stream",
     "text": [
      "Load track data/rostov/rusabakumov_su3.gpx with 6389 points\n",
      "Looks that track has incorrect milliseconds presicion format (i.e written by Harry's Lap Timer). Fixing\n",
      "Track su3\n",
      "Start time: 2019-01-27 11:27:02.900000\n",
      "End time: 2019-01-27 11:36:14.100000\n",
      "Total time: 0:09:11.200000\n",
      "Total distance travelled: 11.313 km\n",
      "Total average speed: 73.89 kph\n",
      "Max speed: 146.80 kph\n",
      "Average speed: 73.59 kph\n",
      "\n",
      "\n"
     ]
    }
   ],
   "source": [
    "# rusabakumov\n",
    "su3 = parser.load_gpx_track('data/rostov/rusabakumov_su3.gpx')\n",
    "\n",
    "su3_segments = su3.determine_activity_segments(allowed_pause = 5, segment_duration_threshold = 5)\n",
    "# for segment in su3_segments:\n",
    "#    segment.print_stats()\n",
    "    \n",
    "su3 = su3.crop_track_to_segment(su3_segments[1], 'su3')\n",
    "su3.set_speed_smoothing(10)\n",
    "su3.print_stats()"
   ]
  },
  {
   "cell_type": "code",
   "execution_count": 5,
   "metadata": {},
   "outputs": [
    {
     "name": "stdout",
     "output_type": "stream",
     "text": [
      "Load racebox track data/rostov/elcamino_su1.csv with 23744 points\n",
      "Track elcamino_su1\n",
      "Start time: 2019-01-31 11:33:02.170000\n",
      "End time: 2019-01-31 11:43:19.630000\n",
      "Total time: 0:10:17.460000\n",
      "Total distance travelled: 11.258 km\n",
      "Total average speed: 65.64 kph\n",
      "Max speed: 129.70 kph\n",
      "Average speed: 65.73 kph\n",
      "\n",
      "\n"
     ]
    }
   ],
   "source": [
    "elcamino_su1 = parser.load_racebox_csv_track('data/rostov/elcamino_su1.csv')\n",
    "\n",
    "elcamino_su1_segments = elcamino_su1.determine_activity_segments(allowed_pause = 5, segment_duration_threshold = 5)\n",
    "# for segment in elcamino_su1_segments:\n",
    "#     segment.print_stats()\n",
    "    \n",
    "elcamino_su1 = elcamino_su1.crop_track_to_segment(elcamino_su1_segments[8], 'elcamino_su1')\n",
    "elcamino_su1.set_speed_smoothing(1)\n",
    "elcamino_su1.print_stats()"
   ]
  },
  {
   "cell_type": "code",
   "execution_count": 6,
   "metadata": {},
   "outputs": [
    {
     "name": "stdout",
     "output_type": "stream",
     "text": [
      "Load racebox track data/rostov/elcamino_su2.csv with 28116 points\n",
      "Track elcamino_su2\n",
      "Start time: 2019-01-31 13:28:00.360000\n",
      "End time: 2019-01-31 13:38:28.350000\n",
      "Total time: 0:10:27.990000\n",
      "Total distance travelled: 11.280 km\n",
      "Total average speed: 64.67 kph\n",
      "Max speed: 134.20 kph\n",
      "Average speed: 64.76 kph\n",
      "\n",
      "\n"
     ]
    }
   ],
   "source": [
    "elcamino_su2 = parser.load_racebox_csv_track('data/rostov/elcamino_su2.csv')\n",
    "\n",
    "elcamino_su2_segments = elcamino_su2.determine_activity_segments(allowed_pause = 5, segment_duration_threshold = 5)\n",
    "# for segment in elcamino_su2_segments:\n",
    "#     segment.print_stats()\n",
    "    \n",
    "elcamino_su2 = elcamino_su2.crop_track_to_segment(elcamino_su2_segments[13], 'elcamino_su2')\n",
    "elcamino_su2.set_speed_smoothing(1)\n",
    "elcamino_su2.print_stats()"
   ]
  },
  {
   "cell_type": "code",
   "execution_count": 7,
   "metadata": {},
   "outputs": [
    {
     "name": "stdout",
     "output_type": "stream",
     "text": [
      "Load racebox track data/rostov/elcamino_su3.csv with 18375 points\n",
      "Track elcamino_su3\n",
      "Start time: 2019-01-31 14:33:02.760000\n",
      "End time: 2019-01-31 14:42:44.130000\n",
      "Total time: 0:09:41.370000\n",
      "Total distance travelled: 10.565 km\n",
      "Total average speed: 65.42 kph\n",
      "Max speed: 134.40 kph\n",
      "Average speed: 65.51 kph\n",
      "\n",
      "\n"
     ]
    }
   ],
   "source": [
    "elcamino_su3 = parser.load_racebox_csv_track('data/rostov/elcamino_su3.csv')\n",
    "\n",
    "elcamino_su3_segments = elcamino_su3.determine_activity_segments(allowed_pause = 5, segment_duration_threshold = 5)\n",
    "# for segment in elcamino_su3_segments:\n",
    "#     segment.print_stats()\n",
    "    \n",
    "elcamino_su3 = elcamino_su3.crop_track_to_segment(elcamino_su3_segments[7], 'elcamino_su3')\n",
    "elcamino_su3.set_speed_smoothing(1)\n",
    "elcamino_su3.print_stats()\n",
    "\n",
    "# viz.plot_2d_track(elcamino_su3)"
   ]
  },
  {
   "cell_type": "code",
   "execution_count": 10,
   "metadata": {},
   "outputs": [
    {
     "name": "stdout",
     "output_type": "stream",
     "text": [
      "Load racechrono track data/rostov/sparrow_su3.csv with 695 points\n",
      "Track dima_su3\n",
      "Start time: 2019-01-27 14:33:49\n",
      "End time: 2019-01-27 14:45:26\n",
      "Total time: 0:11:37\n",
      "Total distance travelled: 11.503 km\n",
      "Total average speed: 59.41 kph\n",
      "Max speed: 144.10 kph\n",
      "Average speed: 57.13 kph\n",
      "\n",
      "\n"
     ]
    }
   ],
   "source": [
    "# dima\n",
    "dima_su3 = parser.load_racechrono_csv_track('data/rostov/sparrow_su3.csv')\n",
    "\n",
    "dima_su3_segments = dima_su3.determine_activity_segments(allowed_pause = 5, segment_duration_threshold = 5)\n",
    "# for segment in su3_segments:\n",
    "#    segment.print_stats()\n",
    "    \n",
    "dima_su3.crop_track_to_segment(dima_su3_segments[1], 'dima_su3')\n",
    "dima_su3.name = 'dima_su3'\n",
    "dima_su3.set_speed_smoothing(1)\n",
    "dima_su3.print_stats()"
   ]
  },
  {
   "cell_type": "code",
   "execution_count": 17,
   "metadata": {},
   "outputs": [
    {
     "name": "stdout",
     "output_type": "stream",
     "text": [
      "427\n",
      "Load racechrono track data/rostov/fomin.csv with 921 points\n",
      "Activity segment #0:\n",
      "Start time: 2019-01-13 14:57:59\n",
      "End time: 2019-01-13 15:10:20\n",
      "Duration: 0:12:21\n",
      "\n",
      "\n"
     ]
    },
    {
     "data": {
      "image/png": "[encoded data removed]",
      "text/plain": [
       "<Figure size 432x288 with 2 Axes>"
      ]
     },
     "metadata": {
      "needs_background": "light"
     },
     "output_type": "display_data"
    }
   ],
   "source": [
    "fomin = parser.load_racechrono_csv_track('data/rostov/fomin.csv', 'fomin')\n",
    "\n",
    "fomin_segments = fomin.determine_activity_segments(allowed_pause = 5, segment_duration_threshold = 100)\n",
    "for segment in fomin_segments:\n",
    "   segment.print_stats()\n",
    "    \n",
    "fomin = fomin.crop_track_to_segment(fomin_segments[0], 'fomin')\n",
    "\n",
    "viz.plot_distance_speed_graph_for_tracks([fomin])"
   ]
  },
  {
   "cell_type": "code",
   "execution_count": null,
   "metadata": {},
   "outputs": [],
   "source": [
    "# dima\n",
    "yarik = parser.load_racechrono_csv_track('data/rostov/yarik_su2.csv')\n",
    "\n",
    "yarik_segments = yarik.determine_activity_segments(allowed_pause = 5, segment_duration_threshold = 5)\n",
    "for segment in yarik_segments:\n",
    "   segment.print_stats()\n",
    "    \n",
    "# dima_su3.crop_track_to_segment(dima_su3_segments[1], 'dima_su3')\n",
    "# dima_su3.name = 'dima_su3'\n",
    "# dima_su3.set_speed_smoothing(3)\n",
    "# dima_su3.print_stats()"
   ]
  },
  {
   "cell_type": "code",
   "execution_count": 13,
   "metadata": {},
   "outputs": [
    {
     "name": "stdout",
     "output_type": "stream",
     "text": [
      "Reference track stats:\n",
      "Total 1839 points\n",
      "Distance between points (km):\n",
      "Min: 0.00500, Max: 0.01975, Avg: 0.00614\n",
      "Time difference between points (ms):\n",
      "Min: 200000.00000, Max: 1300000.00000, Avg: 312513.60174\n",
      "Total distance travelled: 11.282 km\n",
      "Failed to find finish point for track elcamino_su3\n",
      "Done dist alignment for track su1\n",
      "Found 0 no candidates points\n",
      "Found 3883 dist duplication points\n",
      "Done dist alignment for track su2\n",
      "Found 0 no candidates points\n",
      "Found 3706 dist duplication points\n",
      "Done dist alignment for track su3\n",
      "Found 0 no candidates points\n",
      "Found 3664 dist duplication points\n",
      "Done dist alignment for track elcamino_su1\n",
      "Found 0 no candidates points\n",
      "Found 8121 dist duplication points\n",
      "Done dist alignment for track elcamino_su2\n",
      "Found 0 no candidates points\n",
      "Found 8266 dist duplication points\n",
      "Done dist alignment for track elcamino_su3\n",
      "Found 0 no candidates points\n",
      "Found 7638 dist duplication points\n",
      "Point with id 187 has no distance found\n",
      "Point with id 188 has no distance found\n",
      "Point with id 189 has no distance found\n",
      "Point with id 190 has no distance found\n",
      "Point with id 191 has no distance found\n",
      "Point with id 192 has no distance found\n",
      "Done dist alignment for track dima_su3\n",
      "Found 6 no candidates points\n",
      "Found 130 dist duplication points\n"
     ]
    }
   ],
   "source": [
    "# Reference test\n",
    "from gpstools.trackcomparison import TrackComparison\n",
    "\n",
    "ref_track = ReferenceTrack(su1)\n",
    "ref_track.print_stats()\n",
    "\n",
    "comparison = TrackComparison(ref_track, [su1, su2, su3, elcamino_su1, elcamino_su2, elcamino_su3, dima_su3], 0.05) #, yarik_su2, maxmir_su2])\n",
    "\n",
    "comparison.build_comparison_graph('rostov_test9', 'STI-Club Winter Cup Ростов')\n",
    "\n",
    "# viz.plot_distance_speed_graph(\n",
    "#     [rusabakumov_su2.dist_travelled, comparison._aligned_distances[3]],\n",
    "#     [rusabakumov_su2.get_speed(), cheb_su2.get_speed(),]\n",
    "# )"
   ]
  },
  {
   "cell_type": "code",
   "execution_count": null,
   "metadata": {},
   "outputs": [],
   "source": [
    "# Reference viz\n",
    "ref_as_track = Track('reference', ref_track.reference_points)\n",
    "\n",
    "viz.plot_2d_track(ref_as_track)\n",
    "ref_as_track.print_stats()"
   ]
  },
  {
   "cell_type": "code",
   "execution_count": null,
   "metadata": {},
   "outputs": [],
   "source": [
    "viz.plot_distance_speed_graph([su1, su2])"
   ]
  },
  {
   "cell_type": "code",
   "execution_count": null,
   "metadata": {},
   "outputs": [],
   "source": [
    "viz.generate_distance_speed_graph('medved_su2_all', 'Медведь СУ2', [yarik_su2, rusabakumov_su2, maxmir_su2, cheb_su2])"
   ]
  },
  {
   "cell_type": "code",
   "execution_count": null,
   "metadata": {},
   "outputs": [],
   "source": [
    "viz.plot_2d_track(dima_su3)"
   ]
  },
  {
   "cell_type": "code",
   "execution_count": null,
   "metadata": {},
   "outputs": [],
   "source": [
    "viz.plot_2d_track(su3)"
   ]
  },
  {
   "cell_type": "code",
   "execution_count": null,
   "metadata": {},
   "outputs": [],
   "source": []
  }
 ],
 "metadata": {
  "kernelspec": {
   "display_name": "Python 3",
   "language": "python",
   "name": "python3"
  },
  "language_info": {
   "codemirror_mode": {
    "name": "ipython",
    "version": 3
   },
   "file_extension": ".py",
   "mimetype": "text/x-python",
   "name": "python",
   "nbconvert_exporter": "python",
   "pygments_lexer": "ipython3",
   "version": "3.6.2"
  }
 },
 "nbformat": 4,
 "nbformat_minor": 2
}
