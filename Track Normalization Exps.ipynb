{
 "cells": [
  {
   "cell_type": "code",
   "execution_count": 1,
   "metadata": {},
   "outputs": [],
   "source": [
    "from gpstools import viz\n",
    "from gpstools.parser import *\n",
    "from gpstools.track.track import *\n",
    "from gpstools.track.utils import build_sparse_track\n",
    "from gpstools.track.activity_detection import *\n",
    "from gpstools.ss_analysis.ss_analysis_graph import SSAnalysisGraph\n",
    "import os"
   ]
  },
  {
   "cell_type": "code",
   "execution_count": 2,
   "metadata": {},
   "outputs": [],
   "source": [
    "PATH_TO_TRACKS='data/vladimir/vladimir_pro/'\n",
    "REFERENCE_TRACK='rusanov_su1.gpx'"
   ]
  },
  {
   "cell_type": "code",
   "execution_count": 2,
   "metadata": {},
   "outputs": [
    {
     "name": "stdout",
     "output_type": "stream",
     "text": [
      "Processing file data/vladimir/vladimir_pro/rusanov_su1.gpx\n",
      "Parsing Racebox gpx track\n",
      "Load track rusanov_su1 with 59788 points\n",
      "Using built-in speed\n",
      "Track rusanov_su1\n",
      "Start time: 2019-02-24 08:12:14.620000\n",
      "End time: 2019-02-24 09:14:10.460000\n",
      "Total time: 1:01:55.840000\n",
      "Total distance travelled: 26.978 km\n",
      "Total average speed: 26.14 kph\n",
      "Max speed: 180.43 kph\n",
      "Average speed: 25.76 kph\n",
      "\n",
      "\n",
      "Processing file data/vladimir/rusabakumov_su2.gpx\n",
      "Parsing Harry's LapTimer - www.gps-laptimer.de gpx track\n",
      "Looks that track has incorrect milliseconds presicion format (i.e written by Harry's Lap Timer). Fixing\n",
      "Load track rusabakumov_su2 with 14506 points\n",
      "Using built-in speed\n",
      "Track rusanov_su1\n",
      "Start time: 2019-02-24 08:12:14.620000\n",
      "End time: 2019-02-24 09:14:10.460000\n",
      "Total time: 1:01:55.840000\n",
      "Total distance travelled: 26.978 km\n",
      "Total average speed: 26.14 kph\n",
      "Max speed: 180.43 kph\n",
      "Average speed: 25.76 kph\n",
      "\n",
      "\n"
     ]
    },
    {
     "data": {
      "text/plain": [
       "'tmp/l8x6fs'"
      ]
     },
     "execution_count": 2,
     "metadata": {},
     "output_type": "execute_result"
    }
   ],
   "source": [
    "# For processing individual tracks and finding bugs\n",
    "    \n",
    "rusanov_su1 = load_track('data/vladimir/vladimir_pro/rusanov_su1.gpx')\n",
    "rusanov_su1.print_stats()\n",
    "\n",
    "rusabakumov_su2 = load_track('data/vladimir/rusabakumov_su2.gpx')\n",
    "rusanov_su1.print_stats()\n",
    "\n",
    "viz.generate_tracks_map([rusanov_su1, rusabakumov_su2])\n"
   ]
  },
  {
   "cell_type": "code",
   "execution_count": null,
   "metadata": {},
   "outputs": [],
   "source": [
    "# Loading all tracks\n",
    "\n",
    "tracks = load_tracks(PATH_TO_TRACKS)\n",
    "#print_tracks_stats(tracks)\n",
    "\n",
    "comparison = TrackComparison(reference_track, tracks)\n",
    "\n",
    "print_tracks_stats(comparison.tracks)"
   ]
  },
  {
   "cell_type": "code",
   "execution_count": null,
   "metadata": {},
   "outputs": [],
   "source": [
    "comparison.build_comparison_graph(TRACK_NAME, TRACK_TITLE)"
   ]
  },
  {
   "cell_type": "code",
   "execution_count": null,
   "metadata": {},
   "outputs": [],
   "source": []
  }
 ],
 "metadata": {
  "kernelspec": {
   "display_name": "Python 3",
   "language": "python",
   "name": "python3"
  },
  "language_info": {
   "codemirror_mode": {
    "name": "ipython",
    "version": 3
   },
   "file_extension": ".py",
   "mimetype": "text/x-python",
   "name": "python",
   "nbconvert_exporter": "python",
   "pygments_lexer": "ipython3",
   "version": "3.6.2"
  }
 },
 "nbformat": 4,
 "nbformat_minor": 2
}
