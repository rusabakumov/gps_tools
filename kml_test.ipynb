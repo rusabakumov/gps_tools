{
 "cells": [
  {
   "cell_type": "code",
   "execution_count": 14,
   "metadata": {},
   "outputs": [],
   "source": [
    "from fastkml import kml\n",
    "import datetime\n",
    "import pandas as pd\n",
    "import haversine\n",
    "import copy\n",
    "\n",
    "import matplotlib.pyplot as plt\n",
    "from lxml import etree"
   ]
  },
  {
   "cell_type": "code",
   "execution_count": 35,
   "metadata": {},
   "outputs": [
    {
     "name": "stderr",
     "output_type": "stream",
     "text": [
      "No geometries found\n"
     ]
    },
    {
     "ename": "AttributeError",
     "evalue": "'NoneType' object has no attribute 'to_string'",
     "output_type": "error",
     "traceback": [
      "\u001b[0;31m---------------------------------------------------------------------------\u001b[0m",
      "\u001b[0;31mAttributeError\u001b[0m                            Traceback (most recent call last)",
      "\u001b[0;32m<ipython-input-35-06c9e57b5562>\u001b[0m in \u001b[0;36m<module>\u001b[0;34m\u001b[0m\n\u001b[1;32m      8\u001b[0m \u001b[0mk\u001b[0m \u001b[0;34m=\u001b[0m \u001b[0mk\u001b[0m\u001b[0;34m.\u001b[0m\u001b[0mfrom_string\u001b[0m\u001b[0;34m(\u001b[0m\u001b[0mdoc\u001b[0m\u001b[0;34m)\u001b[0m\u001b[0;34m\u001b[0m\u001b[0m\n\u001b[1;32m      9\u001b[0m \u001b[0;34m\u001b[0m\u001b[0m\n\u001b[0;32m---> 10\u001b[0;31m \u001b[0mprint\u001b[0m\u001b[0;34m(\u001b[0m\u001b[0mk\u001b[0m\u001b[0;34m.\u001b[0m\u001b[0mto_string\u001b[0m\u001b[0;34m(\u001b[0m\u001b[0mprettyprint\u001b[0m\u001b[0;34m=\u001b[0m\u001b[0;32mTrue\u001b[0m\u001b[0;34m)\u001b[0m\u001b[0;34m)\u001b[0m\u001b[0;34m\u001b[0m\u001b[0m\n\u001b[0m\u001b[1;32m     11\u001b[0m \u001b[0;34m\u001b[0m\u001b[0m\n\u001b[1;32m     12\u001b[0m \u001b[0;31m#features = list(k.features())\u001b[0m\u001b[0;34m\u001b[0m\u001b[0;34m\u001b[0m\u001b[0m\n",
      "\u001b[0;31mAttributeError\u001b[0m: 'NoneType' object has no attribute 'to_string'"
     ]
    }
   ],
   "source": [
    "# Test code to work with KML\n",
    "\n",
    "k = kml.KML()\n",
    "\n",
    "kml_file = open('data/grossglockner.kml', 'rt')\n",
    "doc = kml_file.read()\n",
    "kml_file.close()\n",
    "k = k.from_string(doc)\n",
    "    \n",
    "print(k.to_string(prettyprint=True))\n",
    "    \n",
    "#features = list(k.features())\n",
    "#print(len(features))\n",
    "\n",
    "\n",
    "#print('Load track with %d points' % len(gpx_track))"
   ]
  },
  {
   "cell_type": "code",
   "execution_count": 29,
   "metadata": {},
   "outputs": [
    {
     "ename": "NameError",
     "evalue": "name 'gpx_track' is not defined",
     "output_type": "error",
     "traceback": [
      "\u001b[0;31m---------------------------------------------------------------------------\u001b[0m",
      "\u001b[0;31mNameError\u001b[0m                                 Traceback (most recent call last)",
      "\u001b[0;32m<ipython-input-29-2058e33c7cf0>\u001b[0m in \u001b[0;36m<module>\u001b[0;34m\u001b[0m\n\u001b[0;32m----> 1\u001b[0;31m \u001b[0mprint\u001b[0m\u001b[0;34m(\u001b[0m\u001b[0mgpx_track\u001b[0m\u001b[0;34m[\u001b[0m\u001b[0;36m30\u001b[0m\u001b[0;34m]\u001b[0m\u001b[0;34m)\u001b[0m\u001b[0;34m\u001b[0m\u001b[0m\n\u001b[0m",
      "\u001b[0;31mNameError\u001b[0m: name 'gpx_track' is not defined"
     ]
    }
   ],
   "source": [
    "print(gpx_track[30])"
   ]
  },
  {
   "cell_type": "code",
   "execution_count": 25,
   "metadata": {},
   "outputs": [
    {
     "data": {
      "text/plain": [
       "[<matplotlib.lines.Line2D at 0x11d2835c0>]"
      ]
     },
     "execution_count": 25,
     "metadata": {},
     "output_type": "execute_result"
    },
    {
     "data": {
      "image/png": "[encoded data removed]",
      "text/plain": [
       "<Figure size 432x288 with 1 Axes>"
      ]
     },
     "metadata": {},
     "output_type": "display_data"
    }
   ],
   "source": [
    "lat = []\n",
    "lon = []\n",
    "\n",
    "for point in truncated_track:\n",
    "    lat.append(point.latitude)\n",
    "    lon.append(point.longitude)\n",
    "            \n",
    "fig = plt.figure(facecolor = '0.05')\n",
    "ax = plt.Axes(fig, [0., 0., 1., 1.], )\n",
    "ax.set_aspect('equal')\n",
    "ax.set_axis_off()\n",
    "fig.add_axes(ax)\n",
    "plt.plot(lon, lat, color = 'deepskyblue', lw = 0.2, alpha = 0.8)"
   ]
  },
  {
   "cell_type": "code",
   "execution_count": 42,
   "metadata": {},
   "outputs": [],
   "source": [
    "# Removing points that corresponds to fractions of seconds, some tools cannot process them\n",
    "\n",
    "df = pd.DataFrame(columns=['lon', 'lat', 'alt', 'time'])\n",
    "\n",
    "truncated_track = []\n",
    "for point in gpx_track:\n",
    "    millis = int(point.time.strftime(\"%f\"))\n",
    "    if (millis == 0):\n",
    "        truncated_track.append(point)\n",
    "    \n",
    "# for point in truncated_track:\n",
    "#     df = df.append({'lon': point.longitude, 'lat' : point.latitude, 'alt' : point.elevation, 'time' : point.time}, ignore_index=True)    \n",
    "    \n",
    "# df"
   ]
  },
  {
   "cell_type": "code",
   "execution_count": 108,
   "metadata": {},
   "outputs": [],
   "source": [
    "# Saving new GPX track from truncated points list\n",
    "\n",
    "new_gpx = gpxpy.gpx.GPX()\n",
    "\n",
    "# Create first track in our GPX:\n",
    "new_gpx_track = gpxpy.gpx.GPXTrack()\n",
    "new_gpx.tracks.append(new_gpx_track)\n",
    "\n",
    "# Create first segment in our GPX track:\n",
    "new_gpx_segment = gpxpy.gpx.GPXTrackSegment()\n",
    "new_gpx_track.segments.append(new_gpx_segment)\n",
    "\n",
    "# Create points:\n",
    "for point in truncated_track:\n",
    "    new_gpx_segment.points.append(point)\n",
    "\n",
    "new_gpx_file = open('data/zelek/SU4_truncated.gpx', 'w+')\n",
    "print(new_gpx.to_xml(), file=new_gpx_file)\n",
    "new_gpx_file.close()\n",
    "\n",
    "tree = etree.parse('data/zelek/SU4_truncated.gpx', etree.XMLParser())\n",
    "root = tree.getroot()\n",
    "\n",
    "# speed_xml = etree.XML(\n",
    "#     \"<root xmlns:gpxtpx=\\\"http://www.garmin.com/xmlschemas/TrackPointExtension/v2\\\"><extensions><gpxtpx:TrackPointExtension><gpxtpx:speed>6.86</gpxtpx:speed></gpxtpx:TrackPointExtension></extensions></root>\"\n",
    "# )\n",
    "speed_xml = etree.XML(\n",
    "    \"<root><speed>45.86</speed></root>\"\n",
    ")\n",
    "speed_node = speed_xml.find(\"speed\")\n",
    "\n",
    "course_xml = etree.XML(\n",
    "    \"<root><course>330.230011</course></root>\"\n",
    ")\n",
    "course_node = course_xml.find(\"course\")\n",
    "\n",
    "trkseg = root.find(\".//trkseg\", root.nsmap)\n",
    "\n",
    "#print(etree.tounicode(trkseg, pretty_print=True))\n",
    "\n",
    "for point in trkseg.findall('./trkpt', root.nsmap):\n",
    "    point.append(copy.deepcopy(course_node))\n",
    "    point.append(copy.deepcopy(speed_node))\n",
    "#    print(etree.tounicode(point, pretty_print=True))\n",
    "#     trkseg.append(updated_point)\n",
    "#     trkseg.remove(point)\n",
    "\n",
    "\n",
    "new_gpx_file = open('data/zelek/SU4_speed_extensions.gpx', 'w+')\n",
    "print(etree.tounicode(root, pretty_print=True), file=new_gpx_file)\n",
    "new_gpx_file.close()"
   ]
  },
  {
   "cell_type": "code",
   "execution_count": 109,
   "metadata": {},
   "outputs": [],
   "source": []
  },
  {
   "cell_type": "code",
   "execution_count": null,
   "metadata": {},
   "outputs": [],
   "source": []
  }
 ],
 "metadata": {
  "kernelspec": {
   "display_name": "Python 3",
   "language": "python",
   "name": "python3"
  },
  "language_info": {
   "codemirror_mode": {
    "name": "ipython",
    "version": 3
   },
   "file_extension": ".py",
   "mimetype": "text/x-python",
   "name": "python",
   "nbconvert_exporter": "python",
   "pygments_lexer": "ipython3",
   "version": "3.6.2"
  }
 },
 "nbformat": 4,
 "nbformat_minor": 2
}
